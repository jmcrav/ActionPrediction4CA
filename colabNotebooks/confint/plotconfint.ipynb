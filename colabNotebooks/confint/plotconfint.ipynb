{
 "cells": [
  {
   "cell_type": "markdown",
   "id": "10e96a6f",
   "metadata": {},
   "source": [
    "# Plot intervalli di confidenza"
   ]
  },
  {
   "cell_type": "markdown",
   "id": "0ad84a4a",
   "metadata": {},
   "source": [
    "Notebook per \"plottare\" gli intervalli di confidenza dei test effettuati.\n",
    "Vengono letti tutti i risultati delle evaluations presenti su disco e raggruppati in base ai parametri di input.\n",
    "> NB:\n",
    "> - i test sono stati effettuati con valori random per il seed per generare una base di campioni da confrontare.\n",
    "> - per problemi legati al tempo di esecuzione dei test il numero di campioni delle popolazioni sono ridotti per cui è stato calcolato lo standard error sui singoli campioni a disposizione per ogni impostazione ed utilizzata la statistica \"t\" al posto della distribuzione normale (\"z-score\")"
   ]
  },
  {
   "cell_type": "markdown",
   "id": "957dbf76",
   "metadata": {},
   "source": [
    "## Caricamento dei dati disco"
   ]
  },
  {
   "cell_type": "code",
   "execution_count": 25,
   "id": "663cdcd9",
   "metadata": {},
   "outputs": [
    {
     "name": "stdout",
     "output_type": "stream",
     "text": [
      "   action_accuracy  action_perplexity  attribute_accuracy  \\\n",
      "0         0.848249           3.554360            0.759871   \n",
      "0         0.845655           4.842728            0.771190   \n",
      "0         0.854178           2.596618            0.764734   \n",
      "0         0.851399           3.448803            0.776654   \n",
      "0         0.844914           4.757354            0.767814   \n",
      "\n",
      "                                    confusion_matrix  params.batch  \\\n",
      "0  [[749.0, 43.0, 8.0, 5.0, 14.0], [19.0, 1091.0,...            12   \n",
      "0  [[742.0, 45.0, 13.0, 13.0, 15.0], [29.0, 1086....            12   \n",
      "0  [[750.0, 49.0, 12.0, 3.0, 16.0], [25.0, 1089.0...            12   \n",
      "0  [[746.0, 49.0, 10.0, 4.0, 11.0], [27.0, 1084.0...            12   \n",
      "0  [[744.0, 52.0, 8.0, 5.0, 20.0], [29.0, 1084.0,...            12   \n",
      "\n",
      "   params.epochs  params.hidden_output_dim  params.seed  params.learning_rate  \\\n",
      "0              6                       256      2010035               0.00005   \n",
      "0             10                       256      2213980               0.00005   \n",
      "0              6                       256      7287458               0.00005   \n",
      "0             10                       256      8287925               0.00005   \n",
      "0             10                       256      9102082               0.00005   \n",
      "\n",
      "   params.tolerance                       category  \n",
      "0      1.000000e-08   B12-E6-H256-LR5e-05-eps1e-08  \n",
      "0      1.000000e-08  B12-E10-H256-LR5e-05-eps1e-08  \n",
      "0      1.000000e-08   B12-E6-H256-LR5e-05-eps1e-08  \n",
      "0      1.000000e-08  B12-E10-H256-LR5e-05-eps1e-08  \n",
      "0      1.000000e-08  B12-E10-H256-LR5e-05-eps1e-08  \n",
      "(23, 11)\n"
     ]
    }
   ],
   "source": [
    "from pathlib import Path\n",
    "import pandas as pd\n",
    "import numpy as np\n",
    "curdir = Path('./statoutput')\n",
    "stat = pd.DataFrame()\n",
    "for f in curdir.glob('eval*'):\n",
    "    df = pd.read_pickle(f)\n",
    "    df['category'] = f\"B{df.at[0, 'params.batch']}-E{df.at[0, 'params.epochs']}-H{df.at[0, 'params.hidden_output_dim']}\\\n",
    "-LR{df.at[0, 'params.learning_rate']}-eps{df.at[0, 'params.tolerance']}\"\n",
    "    stat = pd.concat([stat, df])\n",
    "print(stat.head())\n",
    "print(stat.shape)"
   ]
  },
  {
   "cell_type": "markdown",
   "id": "eef1f7e9",
   "metadata": {},
   "source": [
    "## Calcolo statistiche"
   ]
  },
  {
   "cell_type": "code",
   "execution_count": 26,
   "id": "8b91be87",
   "metadata": {},
   "outputs": [
    {
     "name": "stdout",
     "output_type": "stream",
     "text": [
      "                              action_accuracy                                \\\n",
      "                                        count      mean       std       min   \n",
      "category                                                                      \n",
      "B12-E10-H256-LR5e-05-eps1e-08            10.0  0.845340  0.003065  0.840467   \n",
      "B12-E6-H256-LR5e-05-eps1e-08             10.0  0.848064  0.004033  0.842876   \n",
      "B12-E6-H768-LR5e-05-eps1e-08              3.0  0.844790  0.001020  0.843617   \n",
      "\n",
      "                                                                       \\\n",
      "                                    25%       50%       75%       max   \n",
      "category                                                                \n",
      "B12-E10-H256-LR5e-05-eps1e-08  0.844543  0.844821  0.846767  0.851399   \n",
      "B12-E6-H256-LR5e-05-eps1e-08   0.845377  0.847878  0.848805  0.855290   \n",
      "B12-E6-H768-LR5e-05-eps1e-08   0.844451  0.845284  0.845377  0.845470   \n",
      "\n",
      "                              action_perplexity            ...            \\\n",
      "                                          count      mean  ...       75%   \n",
      "category                                                   ...             \n",
      "B12-E10-H256-LR5e-05-eps1e-08              10.0  4.635046  ...  4.904171   \n",
      "B12-E6-H256-LR5e-05-eps1e-08               10.0  3.285735  ...  3.499645   \n",
      "B12-E6-H768-LR5e-05-eps1e-08                3.0  3.465391  ...  3.693814   \n",
      "\n",
      "                                        attribute_accuracy            \\\n",
      "                                    max              count      mean   \n",
      "category                                                               \n",
      "B12-E10-H256-LR5e-05-eps1e-08  5.151854               10.0  0.768559   \n",
      "B12-E6-H256-LR5e-05-eps1e-08   3.554360               10.0  0.761531   \n",
      "B12-E6-H768-LR5e-05-eps1e-08   4.054464                3.0  0.762910   \n",
      "\n",
      "                                                                       \\\n",
      "                                    std       min       25%       50%   \n",
      "category                                                                \n",
      "B12-E10-H256-LR5e-05-eps1e-08  0.006437  0.757051  0.764817  0.769336   \n",
      "B12-E6-H256-LR5e-05-eps1e-08   0.005761  0.753177  0.758676  0.762385   \n",
      "B12-E6-H768-LR5e-05-eps1e-08   0.002606  0.760325  0.761598  0.762870   \n",
      "\n",
      "                                                   \n",
      "                                    75%       max  \n",
      "category                                           \n",
      "B12-E10-H256-LR5e-05-eps1e-08  0.772102  0.777004  \n",
      "B12-E6-H256-LR5e-05-eps1e-08   0.764282  0.772624  \n",
      "B12-E6-H768-LR5e-05-eps1e-08   0.764203  0.765536  \n",
      "\n",
      "[3 rows x 24 columns]\n"
     ]
    }
   ],
   "source": [
    "stat_mean = stat.drop('params.seed', 1).groupby(['params.epochs', 'params.batch', 'params.hidden_output_dim', 'params.learning_rate', 'params.tolerance']).mean().add_suffix('_mean')\n",
    "stat_std = stat.drop('params.seed', 1).groupby(['params.epochs', 'params.batch', 'params.hidden_output_dim', 'params.learning_rate', 'params.tolerance']).std().add_suffix('_std')\n",
    "stat_var = stat.drop('params.seed', 1).groupby(['params.epochs', 'params.batch', 'params.hidden_output_dim', 'params.learning_rate', 'params.tolerance']).var().add_suffix('_var')\n",
    "stat_stderr = stat.drop('params.seed', 1).groupby(['params.epochs', 'params.batch', 'params.hidden_output_dim', 'params.learning_rate', 'params.tolerance']).sem().add_suffix('_std_err')\n",
    "\n",
    "stat_group = stat.drop(columns = ['params.batch',\n",
    "                                  'params.epochs', \n",
    "                                  'params.hidden_output_dim', \n",
    "                                  'params.seed', \n",
    "                                  'params.learning_rate', \n",
    "                                  'params.tolerance'],\n",
    "                       axis = 1).groupby('category')\n",
    "#stat_df = stat_group.merge(stat_group.mean().add_suffix('_mean'))\n",
    "#stat_df = stat_group.mean().add_suffix('_mean')\n",
    "#stat_df1 = stat_group.std().add_suffix('_std')\n",
    "df = stat_group.describe()\n",
    "#for prop in df:\n",
    "#    print(prop)\n",
    "#print(df.index.values)\n",
    "#df['class'] = str(list(df.index.values))\n",
    "print(df)"
   ]
  },
  {
   "cell_type": "markdown",
   "id": "9eb140ed",
   "metadata": {},
   "source": [
    "# Standard error (per calcolo intervallo di confidenza)"
   ]
  },
  {
   "cell_type": "code",
   "execution_count": 27,
   "id": "b5bf9c1b",
   "metadata": {},
   "outputs": [
    {
     "data": {
      "text/html": [
       "<div>\n",
       "<style scoped>\n",
       "    .dataframe tbody tr th:only-of-type {\n",
       "        vertical-align: middle;\n",
       "    }\n",
       "\n",
       "    .dataframe tbody tr th {\n",
       "        vertical-align: top;\n",
       "    }\n",
       "\n",
       "    .dataframe thead tr th {\n",
       "        text-align: left;\n",
       "    }\n",
       "\n",
       "    .dataframe thead tr:last-of-type th {\n",
       "        text-align: right;\n",
       "    }\n",
       "</style>\n",
       "<table border=\"1\" class=\"dataframe\">\n",
       "  <thead>\n",
       "    <tr>\n",
       "      <th></th>\n",
       "      <th colspan=\"8\" halign=\"left\">action_accuracy</th>\n",
       "      <th colspan=\"2\" halign=\"left\">action_perplexity</th>\n",
       "      <th>...</th>\n",
       "      <th colspan=\"2\" halign=\"left\">action_accuracy</th>\n",
       "      <th colspan=\"4\" halign=\"left\">action_perplexity</th>\n",
       "      <th colspan=\"4\" halign=\"left\">attribute_accuracy</th>\n",
       "    </tr>\n",
       "    <tr>\n",
       "      <th></th>\n",
       "      <th>count</th>\n",
       "      <th>mean</th>\n",
       "      <th>std</th>\n",
       "      <th>min</th>\n",
       "      <th>25%</th>\n",
       "      <th>50%</th>\n",
       "      <th>75%</th>\n",
       "      <th>max</th>\n",
       "      <th>count</th>\n",
       "      <th>mean</th>\n",
       "      <th>...</th>\n",
       "      <th>lo_bond_ci</th>\n",
       "      <th>up_bond_ci</th>\n",
       "      <th>stderr</th>\n",
       "      <th>ci</th>\n",
       "      <th>lo_bond_ci</th>\n",
       "      <th>up_bond_ci</th>\n",
       "      <th>stderr</th>\n",
       "      <th>ci</th>\n",
       "      <th>lo_bond_ci</th>\n",
       "      <th>up_bond_ci</th>\n",
       "    </tr>\n",
       "    <tr>\n",
       "      <th>category</th>\n",
       "      <th></th>\n",
       "      <th></th>\n",
       "      <th></th>\n",
       "      <th></th>\n",
       "      <th></th>\n",
       "      <th></th>\n",
       "      <th></th>\n",
       "      <th></th>\n",
       "      <th></th>\n",
       "      <th></th>\n",
       "      <th></th>\n",
       "      <th></th>\n",
       "      <th></th>\n",
       "      <th></th>\n",
       "      <th></th>\n",
       "      <th></th>\n",
       "      <th></th>\n",
       "      <th></th>\n",
       "      <th></th>\n",
       "      <th></th>\n",
       "      <th></th>\n",
       "    </tr>\n",
       "  </thead>\n",
       "  <tbody>\n",
       "    <tr>\n",
       "      <th>B12-E10-H256-LR5e-05-eps1e-08</th>\n",
       "      <td>10.0</td>\n",
       "      <td>0.845340</td>\n",
       "      <td>0.003065</td>\n",
       "      <td>0.840467</td>\n",
       "      <td>0.844543</td>\n",
       "      <td>0.844821</td>\n",
       "      <td>0.846767</td>\n",
       "      <td>0.851399</td>\n",
       "      <td>10.0</td>\n",
       "      <td>4.635046</td>\n",
       "      <td>...</td>\n",
       "      <td>0.843150</td>\n",
       "      <td>0.847530</td>\n",
       "      <td>0.157732</td>\n",
       "      <td>0.356474</td>\n",
       "      <td>4.278571</td>\n",
       "      <td>4.991520</td>\n",
       "      <td>0.002036</td>\n",
       "      <td>0.004600</td>\n",
       "      <td>0.763958</td>\n",
       "      <td>0.773159</td>\n",
       "    </tr>\n",
       "    <tr>\n",
       "      <th>B12-E6-H256-LR5e-05-eps1e-08</th>\n",
       "      <td>10.0</td>\n",
       "      <td>0.848064</td>\n",
       "      <td>0.004033</td>\n",
       "      <td>0.842876</td>\n",
       "      <td>0.845377</td>\n",
       "      <td>0.847878</td>\n",
       "      <td>0.848805</td>\n",
       "      <td>0.855290</td>\n",
       "      <td>10.0</td>\n",
       "      <td>3.285735</td>\n",
       "      <td>...</td>\n",
       "      <td>0.845181</td>\n",
       "      <td>0.850946</td>\n",
       "      <td>0.111583</td>\n",
       "      <td>0.252177</td>\n",
       "      <td>3.033558</td>\n",
       "      <td>3.537912</td>\n",
       "      <td>0.001822</td>\n",
       "      <td>0.004117</td>\n",
       "      <td>0.757414</td>\n",
       "      <td>0.765648</td>\n",
       "    </tr>\n",
       "    <tr>\n",
       "      <th>B12-E6-H768-LR5e-05-eps1e-08</th>\n",
       "      <td>3.0</td>\n",
       "      <td>0.844790</td>\n",
       "      <td>0.001020</td>\n",
       "      <td>0.843617</td>\n",
       "      <td>0.844451</td>\n",
       "      <td>0.845284</td>\n",
       "      <td>0.845377</td>\n",
       "      <td>0.845470</td>\n",
       "      <td>3.0</td>\n",
       "      <td>3.465391</td>\n",
       "      <td>...</td>\n",
       "      <td>0.842257</td>\n",
       "      <td>0.847324</td>\n",
       "      <td>0.309084</td>\n",
       "      <td>1.329061</td>\n",
       "      <td>2.136330</td>\n",
       "      <td>4.794453</td>\n",
       "      <td>0.001505</td>\n",
       "      <td>0.006470</td>\n",
       "      <td>0.756441</td>\n",
       "      <td>0.769380</td>\n",
       "    </tr>\n",
       "  </tbody>\n",
       "</table>\n",
       "<p>3 rows × 38 columns</p>\n",
       "</div>"
      ],
      "text/plain": [
       "                              action_accuracy                                \\\n",
       "                                        count      mean       std       min   \n",
       "category                                                                      \n",
       "B12-E10-H256-LR5e-05-eps1e-08            10.0  0.845340  0.003065  0.840467   \n",
       "B12-E6-H256-LR5e-05-eps1e-08             10.0  0.848064  0.004033  0.842876   \n",
       "B12-E6-H768-LR5e-05-eps1e-08              3.0  0.844790  0.001020  0.843617   \n",
       "\n",
       "                                                                       \\\n",
       "                                    25%       50%       75%       max   \n",
       "category                                                                \n",
       "B12-E10-H256-LR5e-05-eps1e-08  0.844543  0.844821  0.846767  0.851399   \n",
       "B12-E6-H256-LR5e-05-eps1e-08   0.845377  0.847878  0.848805  0.855290   \n",
       "B12-E6-H768-LR5e-05-eps1e-08   0.844451  0.845284  0.845377  0.845470   \n",
       "\n",
       "                              action_perplexity            ...  \\\n",
       "                                          count      mean  ...   \n",
       "category                                                   ...   \n",
       "B12-E10-H256-LR5e-05-eps1e-08              10.0  4.635046  ...   \n",
       "B12-E6-H256-LR5e-05-eps1e-08               10.0  3.285735  ...   \n",
       "B12-E6-H768-LR5e-05-eps1e-08                3.0  3.465391  ...   \n",
       "\n",
       "                              action_accuracy            action_perplexity  \\\n",
       "                                   lo_bond_ci up_bond_ci            stderr   \n",
       "category                                                                     \n",
       "B12-E10-H256-LR5e-05-eps1e-08        0.843150   0.847530          0.157732   \n",
       "B12-E6-H256-LR5e-05-eps1e-08         0.845181   0.850946          0.111583   \n",
       "B12-E6-H768-LR5e-05-eps1e-08         0.842257   0.847324          0.309084   \n",
       "\n",
       "                                                               \\\n",
       "                                     ci lo_bond_ci up_bond_ci   \n",
       "category                                                        \n",
       "B12-E10-H256-LR5e-05-eps1e-08  0.356474   4.278571   4.991520   \n",
       "B12-E6-H256-LR5e-05-eps1e-08   0.252177   3.033558   3.537912   \n",
       "B12-E6-H768-LR5e-05-eps1e-08   1.329061   2.136330   4.794453   \n",
       "\n",
       "                              attribute_accuracy                       \\\n",
       "                                          stderr        ci lo_bond_ci   \n",
       "category                                                                \n",
       "B12-E10-H256-LR5e-05-eps1e-08           0.002036  0.004600   0.763958   \n",
       "B12-E6-H256-LR5e-05-eps1e-08            0.001822  0.004117   0.757414   \n",
       "B12-E6-H768-LR5e-05-eps1e-08            0.001505  0.006470   0.756441   \n",
       "\n",
       "                                          \n",
       "                              up_bond_ci  \n",
       "category                                  \n",
       "B12-E10-H256-LR5e-05-eps1e-08   0.773159  \n",
       "B12-E6-H256-LR5e-05-eps1e-08    0.765648  \n",
       "B12-E6-H768-LR5e-05-eps1e-08    0.769380  \n",
       "\n",
       "[3 rows x 38 columns]"
      ]
     },
     "execution_count": 27,
     "metadata": {},
     "output_type": "execute_result"
    }
   ],
   "source": [
    "t_dist_2_tailed_95 = [np.nan, \n",
    "                      12.71, 4.3, 3.18, 2.78, 2.57, 2.45, 2.36, 2.31, 2.26, 2.23, \n",
    "                      2.20, 2.18, 2.16, 2.14, 2.13, 2.12, 2.11, 2.10, 2.09, 2.09, \n",
    "                      2.08, 2.07, 2.07, 2.06, 2.06, 2.06, 2.05, 2.05, 2.05, 2.04]\n",
    "df['degree_of_freedom'] = df[('action_accuracy', 'count')] - 1\n",
    "df['t_N_minus_1'] = df['degree_of_freedom'].apply(lambda x: t_dist_2_tailed_95[int(x)])\n",
    "\n",
    "df[('action_accuracy', 'stderr')] = df[('action_accuracy', 'std')] / np.sqrt(df[('action_accuracy', 'count')])\n",
    "df[('action_accuracy', 'ci')] = df['t_N_minus_1'] * df[('action_accuracy', 'stderr')]\n",
    "df[('action_accuracy', 'lo_bond_ci')] = df[('action_accuracy', 'mean')] - df['t_N_minus_1'] * df[('action_accuracy', 'stderr')]\n",
    "df[('action_accuracy', 'up_bond_ci')] = df[('action_accuracy', 'mean')] + df['t_N_minus_1'] * df[('action_accuracy', 'stderr')]\n",
    "\n",
    "df[('action_perplexity', 'stderr')] = df[('action_perplexity', 'std')] / np.sqrt(df[('action_perplexity', 'count')])\n",
    "df[('action_perplexity', 'ci')] = df['t_N_minus_1'] * df[('action_perplexity', 'stderr')]\n",
    "df[('action_perplexity', 'lo_bond_ci')] = df[('action_perplexity', 'mean')] - df['t_N_minus_1'] * df[('action_perplexity', 'stderr')]\n",
    "df[('action_perplexity', 'up_bond_ci')] = df[('action_perplexity', 'mean')] + df['t_N_minus_1'] * df[('action_perplexity', 'stderr')]\n",
    "\n",
    "df[('attribute_accuracy', 'stderr')] = df[('attribute_accuracy', 'std')] / np.sqrt(df[('attribute_accuracy', 'count')])\n",
    "df[('attribute_accuracy', 'ci')] = df['t_N_minus_1'] * df[('attribute_accuracy', 'stderr')]\n",
    "df[('attribute_accuracy', 'lo_bond_ci')] = df[('attribute_accuracy', 'mean')] - df['t_N_minus_1'] * df[('attribute_accuracy', 'stderr')]\n",
    "df[('attribute_accuracy', 'up_bond_ci')] = df[('attribute_accuracy', 'mean')] + df['t_N_minus_1'] * df[('attribute_accuracy', 'stderr')]\n",
    "\n",
    "df"
   ]
  },
  {
   "cell_type": "markdown",
   "id": "a3bdc064",
   "metadata": {},
   "source": [
    "## Controllo di aver calcolato correttamente lo stderr"
   ]
  },
  {
   "cell_type": "code",
   "execution_count": 28,
   "id": "6de1d44f",
   "metadata": {},
   "outputs": [
    {
     "name": "stdout",
     "output_type": "stream",
     "text": [
      "                                                                                           action_accuracy_std_err  \\\n",
      "params.epochs params.batch params.hidden_output_dim params.learning_rate params.tolerance                            \n",
      "6             12           256                      0.00005              1.000000e-08                     0.001275   \n",
      "                           768                      0.00005              1.000000e-08                     0.000589   \n",
      "10            12           256                      0.00005              1.000000e-08                     0.000969   \n",
      "\n",
      "                                                                                           action_perplexity_std_err  \\\n",
      "params.epochs params.batch params.hidden_output_dim params.learning_rate params.tolerance                              \n",
      "6             12           256                      0.00005              1.000000e-08                       0.111583   \n",
      "                           768                      0.00005              1.000000e-08                       0.309084   \n",
      "10            12           256                      0.00005              1.000000e-08                       0.157732   \n",
      "\n",
      "                                                                                           attribute_accuracy_std_err  \n",
      "params.epochs params.batch params.hidden_output_dim params.learning_rate params.tolerance                              \n",
      "6             12           256                      0.00005              1.000000e-08                        0.001822  \n",
      "                           768                      0.00005              1.000000e-08                        0.001505  \n",
      "10            12           256                      0.00005              1.000000e-08                        0.002036  \n"
     ]
    }
   ],
   "source": [
    "print(stat_stderr)"
   ]
  },
  {
   "cell_type": "code",
   "execution_count": 29,
   "id": "52941906",
   "metadata": {},
   "outputs": [
    {
     "data": {
      "image/png": "[encoded data removed]",
      "text/plain": [
       "<Figure size 432x288 with 1 Axes>"
      ]
     },
     "metadata": {
      "needs_background": "light"
     },
     "output_type": "display_data"
    },
    {
     "data": {
      "image/png": "[encoded data removed]",
      "text/plain": [
       "<Figure size 432x288 with 1 Axes>"
      ]
     },
     "metadata": {
      "needs_background": "light"
     },
     "output_type": "display_data"
    },
    {
     "data": {
      "image/png": "[encoded data removed]",
      "text/plain": [
       "<Figure size 432x288 with 1 Axes>"
      ]
     },
     "metadata": {
      "needs_background": "light"
     },
     "output_type": "display_data"
    }
   ],
   "source": [
    "import matplotlib.pyplot as plt\n",
    "\n",
    "#plt.errorbar(df.index, ('action_accuracy', 'mean'), yerr=('action_accuracy', 'ci'), data=df)\n",
    "plt.errorbar(x = df[('action_accuracy', 'mean')], \n",
    "             y = df.index, \n",
    "             xerr = df[('action_accuracy', 'ci')], \n",
    "             fmt = 'o')\n",
    "plt.title('Confidence interval for action accuracy')\n",
    "plt.show()\n",
    "\n",
    "plt.errorbar(x = df[('action_perplexity', 'mean')], \n",
    "             y = df.index, \n",
    "             xerr = df[('action_perplexity', 'ci')], \n",
    "             fmt = 'o')\n",
    "plt.title('Confidence interval for action perplexity')\n",
    "plt.show()\n",
    "\n",
    "plt.errorbar(x = df[('attribute_accuracy', 'mean')], \n",
    "             y = df.index, \n",
    "             xerr = df[('attribute_accuracy', 'ci')], \n",
    "             fmt = 'o')\n",
    "plt.title('Confidence interval for attribute accuracy')\n",
    "plt.show()"
   ]
  },
  {
   "cell_type": "markdown",
   "id": "3839f61f",
   "metadata": {},
   "source": [
    "# Esempi visualizzazione errore"
   ]
  },
  {
   "cell_type": "code",
   "execution_count": 30,
   "id": "831318b6",
   "metadata": {},
   "outputs": [
    {
     "data": {
      "image/png": "[encoded data removed]",
      "text/plain": [
       "<Figure size 432x288 with 2 Axes>"
      ]
     },
     "metadata": {
      "needs_background": "light"
     },
     "output_type": "display_data"
    }
   ],
   "source": [
    "import numpy as np\n",
    "import matplotlib.pyplot as plt\n",
    "\n",
    "# example data\n",
    "x = np.arange(0.1, 4, 0.5)\n",
    "y = np.exp(-x)\n",
    "\n",
    "# example error bar values that vary with x-position\n",
    "error = 0.1 + 0.2 * x\n",
    "\n",
    "fig, (ax0, ax1) = plt.subplots(nrows=2, sharex=True)\n",
    "ax0.errorbar(x, y, yerr=error, fmt='-o')\n",
    "ax0.set_title('variable, symmetric error')\n",
    "\n",
    "# error bar values w/ different -/+ errors that\n",
    "# also vary with the x-position\n",
    "lower_error = 0.4 * error\n",
    "upper_error = error\n",
    "asymmetric_error = [lower_error, upper_error]\n",
    "\n",
    "ax1.errorbar(x, y, xerr=asymmetric_error, fmt='o')\n",
    "ax1.set_title('variable, asymmetric error')\n",
    "ax1.set_yscale('log')\n",
    "plt.show()"
   ]
  }
 ],
 "metadata": {
  "kernelspec": {
   "display_name": "Python 3 (ipykernel)",
   "language": "python",
   "name": "python3"
  },
  "language_info": {
   "codemirror_mode": {
    "name": "ipython",
    "version": 3
   },
   "file_extension": ".py",
   "mimetype": "text/x-python",
   "name": "python",
   "nbconvert_exporter": "python",
   "pygments_lexer": "ipython3",
   "version": "3.8.10"
  }
 },
 "nbformat": 4,
 "nbformat_minor": 5
}
