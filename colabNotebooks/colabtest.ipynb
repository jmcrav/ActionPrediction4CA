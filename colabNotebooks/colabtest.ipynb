{
 "nbformat": 4,
 "nbformat_minor": 0,
 "metadata": {
  "colab": {
   "name": "colabtest.ipynb",
   "provenance": [],
   "collapsed_sections": [],
   "toc_visible": true,
   "mount_file_id": "1A1BpScT_yk5UlEfco8XPayNL2IWL1B0l",
   "authorship_tag": "ABX9TyNvCfIPPyrY/XS7vX4oqRCA"
  },
  "kernelspec": {
   "name": "python3",
   "display_name": "Python 3"
  },
  "accelerator": "GPU"
 },
 "cells": [
  {
   "cell_type": "markdown",
   "metadata": {
    "id": "TW_XLbQ3oiSx"
   },
   "source": [
    "# Environment test\n",
    "The scope of this script is to compute the train of the simmc model for the fashion domain on the `COLAB` platform.\n",
    "\n",
    "For the environment test we directly clone the repository to simplify the data access.\n",
    "To improve performance the repository will be stored on google drive and accessed via `sys.path` functions (see [google colab-drive-github stack tutorial](https://towardsdatascience.com/google-drive-google-colab-github-dont-just-read-do-it-5554d5824228)).\n",
    "\n",
    "## Downgrade pytorch"
   ]
  },
  {
   "cell_type": "code",
   "execution_count": null,
   "outputs": [],
   "source": [
    "!pip install torch==1.4.0"
   ],
   "metadata": {
    "collapsed": false,
    "pycharm": {
     "name": "#%%\n"
    }
   }
  },
  {
   "cell_type": "markdown",
   "source": [
    "## Get library from `colab branch`\n",
    "Clone the forked repository with the setting for the `colab` test"
   ],
   "metadata": {
    "collapsed": false
   }
  },
  {
   "cell_type": "code",
   "metadata": {
    "colab": {
     "base_uri": "https://localhost:8080/"
    },
    "id": "7Dwl5Py9WEBe",
    "executionInfo": {
     "status": "ok",
     "timestamp": 1612128683199,
     "user_tz": -60,
     "elapsed": 4886,
     "user": {
      "displayName": "Gian Maria Cravero",
      "photoUrl": "https://lh3.googleusercontent.com/a-/AOh14GivBZ3_0YjjPOhXcrYotK8B-Cv4rkjD5mI0Lza2dQ=s64",
      "userId": "17389687874504793062"
     }
    },
    "outputId": "1940b050-42be-4cf5-c992-80f7c042b293"
   },
   "source": [
    "!git clone --branch colab https://github.com/jmcrav/ActionPrediction4CA.git"
   ],
   "execution_count": 1,
   "outputs": [
    {
     "output_type": "stream",
     "text": [
      "Cloning into 'ActionPrediction4CA'...\n",
      "remote: Enumerating objects: 141, done.\u001B[K\n",
      "remote: Counting objects: 100% (141/141), done.\u001B[K\n",
      "remote: Compressing objects: 100% (110/110), done.\u001B[K\n",
      "remote: Total 141 (delta 53), reused 112 (delta 30), pack-reused 0\u001B[K\n",
      "Receiving objects: 100% (141/141), 34.85 MiB | 21.20 MiB/s, done.\n",
      "Resolving deltas: 100% (53/53), done.\n"
     ],
     "name": "stdout"
    }
   ]
  },
  {
   "cell_type": "markdown",
   "metadata": {
    "id": "klAzL8VCIZcX"
   },
   "source": [
    "## Check environment\n",
    "Script list"
   ]
  },
  {
   "cell_type": "code",
   "metadata": {
    "colab": {
     "base_uri": "https://localhost:8080/"
    },
    "id": "mbq_QWm0IYtx",
    "executionInfo": {
     "status": "ok",
     "timestamp": 1612128689521,
     "user_tz": -60,
     "elapsed": 566,
     "user": {
      "displayName": "Gian Maria Cravero",
      "photoUrl": "https://lh3.googleusercontent.com/a-/AOh14GivBZ3_0YjjPOhXcrYotK8B-Cv4rkjD5mI0Lza2dQ=s64",
      "userId": "17389687874504793062"
     }
    },
    "outputId": "3862ed40-8972-4736-9259-f4523bf2a96b"
   },
   "source": [
    "%ls -la /content/ActionPrediction4CA/scripts/"
   ],
   "execution_count": 2,
   "outputs": [
    {
     "output_type": "stream",
     "text": [
      "total 20\n",
      "drwxr-xr-x  2 root root 4096 Jan 31 21:31 \u001B[0m\u001B[01;34m.\u001B[0m/\n",
      "drwxr-xr-x 11 root root 4096 Jan 31 21:31 \u001B[01;34m..\u001B[0m/\n",
      "-rw-r--r--  1 root root 2374 Jan 31 21:31 preprocess_simmc.sh\n",
      "-rw-r--r--  1 root root 2796 Jan 31 21:31 train_all_simmc_models.sh\n",
      "-rw-r--r--  1 root root 1591 Jan 31 21:31 train_simmc_model.sh\n"
     ],
     "name": "stdout"
    }
   ]
  },
  {
   "cell_type": "markdown",
   "metadata": {
    "id": "0s3UoGgh2zmG"
   },
   "source": [
    "Set the privileges"
   ]
  },
  {
   "cell_type": "code",
   "metadata": {
    "id": "Tpwh9H8qIk0N",
    "executionInfo": {
     "status": "ok",
     "timestamp": 1612128691964,
     "user_tz": -60,
     "elapsed": 555,
     "user": {
      "displayName": "Gian Maria Cravero",
      "photoUrl": "https://lh3.googleusercontent.com/a-/AOh14GivBZ3_0YjjPOhXcrYotK8B-Cv4rkjD5mI0Lza2dQ=s64",
      "userId": "17389687874504793062"
     }
    }
   },
   "source": [
    "!chmod 755 /content/ActionPrediction4CA/scripts/*.*"
   ],
   "execution_count": 3,
   "outputs": []
  },
  {
   "cell_type": "markdown",
   "metadata": {
    "id": "n_ntxqHf4Y0V"
   },
   "source": [
    "# Import missing library"
   ]
  },
  {
   "cell_type": "code",
   "metadata": {
    "colab": {
     "base_uri": "https://localhost:8080/"
    },
    "id": "YDY8hnA1xV-x",
    "executionInfo": {
     "status": "ok",
     "timestamp": 1612128697760,
     "user_tz": -60,
     "elapsed": 1298,
     "user": {
      "displayName": "Gian Maria Cravero",
      "photoUrl": "https://lh3.googleusercontent.com/a-/AOh14GivBZ3_0YjjPOhXcrYotK8B-Cv4rkjD5mI0Lza2dQ=s64",
      "userId": "17389687874504793062"
     }
    },
    "outputId": "502e781c-bf6c-4b43-b618-18757f129dc8"
   },
   "source": [
    "import nltk\n",
    "nltk.download('punkt')"
   ],
   "execution_count": 4,
   "outputs": [
    {
     "output_type": "stream",
     "text": [
      "[nltk_data] Downloading package punkt to /root/nltk_data...\n",
      "[nltk_data]   Package punkt is already up-to-date!\n"
     ],
     "name": "stdout"
    },
    {
     "output_type": "execute_result",
     "data": {
      "text/plain": [
       "True"
      ]
     },
     "metadata": {
      "tags": []
     },
     "execution_count": 4
    }
   ]
  },
  {
   "cell_type": "code",
   "metadata": {
    "colab": {
     "base_uri": "https://localhost:8080/"
    },
    "id": "-i52bMiiyg58",
    "executionInfo": {
     "status": "ok",
     "timestamp": 1612128704982,
     "user_tz": -60,
     "elapsed": 3688,
     "user": {
      "displayName": "Gian Maria Cravero",
      "photoUrl": "https://lh3.googleusercontent.com/a-/AOh14GivBZ3_0YjjPOhXcrYotK8B-Cv4rkjD5mI0Lza2dQ=s64",
      "userId": "17389687874504793062"
     }
    },
    "outputId": "64ab9be2-50e6-4623-df19-c0771b2c3a82"
   },
   "source": [
    "!python -m spacy download en_vectors_web_lg"
   ],
   "execution_count": 5,
   "outputs": [
    {
     "output_type": "stream",
     "text": [
      "Requirement already satisfied: en_vectors_web_lg==2.1.0 from https://github.com/explosion/spacy-models/releases/download/en_vectors_web_lg-2.1.0/en_vectors_web_lg-2.1.0.tar.gz#egg=en_vectors_web_lg==2.1.0 in /usr/local/lib/python3.6/dist-packages (2.1.0)\n",
      "Requirement already satisfied: spacy<3.0.0,>=2.1.0 in /usr/local/lib/python3.6/dist-packages (from en_vectors_web_lg==2.1.0) (2.2.4)\n",
      "Requirement already satisfied: wasabi<1.1.0,>=0.4.0 in /usr/local/lib/python3.6/dist-packages (from spacy<3.0.0,>=2.1.0->en_vectors_web_lg==2.1.0) (0.8.1)\n",
      "Requirement already satisfied: setuptools in /usr/local/lib/python3.6/dist-packages (from spacy<3.0.0,>=2.1.0->en_vectors_web_lg==2.1.0) (51.3.3)\n",
      "Requirement already satisfied: cymem<2.1.0,>=2.0.2 in /usr/local/lib/python3.6/dist-packages (from spacy<3.0.0,>=2.1.0->en_vectors_web_lg==2.1.0) (2.0.5)\n",
      "Requirement already satisfied: catalogue<1.1.0,>=0.0.7 in /usr/local/lib/python3.6/dist-packages (from spacy<3.0.0,>=2.1.0->en_vectors_web_lg==2.1.0) (1.0.0)\n",
      "Requirement already satisfied: plac<1.2.0,>=0.9.6 in /usr/local/lib/python3.6/dist-packages (from spacy<3.0.0,>=2.1.0->en_vectors_web_lg==2.1.0) (1.1.3)\n",
      "Requirement already satisfied: requests<3.0.0,>=2.13.0 in /usr/local/lib/python3.6/dist-packages (from spacy<3.0.0,>=2.1.0->en_vectors_web_lg==2.1.0) (2.23.0)\n",
      "Requirement already satisfied: srsly<1.1.0,>=1.0.2 in /usr/local/lib/python3.6/dist-packages (from spacy<3.0.0,>=2.1.0->en_vectors_web_lg==2.1.0) (1.0.5)\n",
      "Requirement already satisfied: blis<0.5.0,>=0.4.0 in /usr/local/lib/python3.6/dist-packages (from spacy<3.0.0,>=2.1.0->en_vectors_web_lg==2.1.0) (0.4.1)\n",
      "Requirement already satisfied: tqdm<5.0.0,>=4.38.0 in /usr/local/lib/python3.6/dist-packages (from spacy<3.0.0,>=2.1.0->en_vectors_web_lg==2.1.0) (4.41.1)\n",
      "Requirement already satisfied: numpy>=1.15.0 in /usr/local/lib/python3.6/dist-packages (from spacy<3.0.0,>=2.1.0->en_vectors_web_lg==2.1.0) (1.19.5)\n",
      "Requirement already satisfied: murmurhash<1.1.0,>=0.28.0 in /usr/local/lib/python3.6/dist-packages (from spacy<3.0.0,>=2.1.0->en_vectors_web_lg==2.1.0) (1.0.5)\n",
      "Requirement already satisfied: thinc==7.4.0 in /usr/local/lib/python3.6/dist-packages (from spacy<3.0.0,>=2.1.0->en_vectors_web_lg==2.1.0) (7.4.0)\n",
      "Requirement already satisfied: preshed<3.1.0,>=3.0.2 in /usr/local/lib/python3.6/dist-packages (from spacy<3.0.0,>=2.1.0->en_vectors_web_lg==2.1.0) (3.0.5)\n",
      "Requirement already satisfied: importlib-metadata>=0.20; python_version < \"3.8\" in /usr/local/lib/python3.6/dist-packages (from catalogue<1.1.0,>=0.0.7->spacy<3.0.0,>=2.1.0->en_vectors_web_lg==2.1.0) (3.4.0)\n",
      "Requirement already satisfied: chardet<4,>=3.0.2 in /usr/local/lib/python3.6/dist-packages (from requests<3.0.0,>=2.13.0->spacy<3.0.0,>=2.1.0->en_vectors_web_lg==2.1.0) (3.0.4)\n",
      "Requirement already satisfied: urllib3!=1.25.0,!=1.25.1,<1.26,>=1.21.1 in /usr/local/lib/python3.6/dist-packages (from requests<3.0.0,>=2.13.0->spacy<3.0.0,>=2.1.0->en_vectors_web_lg==2.1.0) (1.24.3)\n",
      "Requirement already satisfied: certifi>=2017.4.17 in /usr/local/lib/python3.6/dist-packages (from requests<3.0.0,>=2.13.0->spacy<3.0.0,>=2.1.0->en_vectors_web_lg==2.1.0) (2020.12.5)\n",
      "Requirement already satisfied: idna<3,>=2.5 in /usr/local/lib/python3.6/dist-packages (from requests<3.0.0,>=2.13.0->spacy<3.0.0,>=2.1.0->en_vectors_web_lg==2.1.0) (2.10)\n",
      "Requirement already satisfied: zipp>=0.5 in /usr/local/lib/python3.6/dist-packages (from importlib-metadata>=0.20; python_version < \"3.8\"->catalogue<1.1.0,>=0.0.7->spacy<3.0.0,>=2.1.0->en_vectors_web_lg==2.1.0) (3.4.0)\n",
      "Requirement already satisfied: typing-extensions>=3.6.4; python_version < \"3.8\" in /usr/local/lib/python3.6/dist-packages (from importlib-metadata>=0.20; python_version < \"3.8\"->catalogue<1.1.0,>=0.0.7->spacy<3.0.0,>=2.1.0->en_vectors_web_lg==2.1.0) (3.7.4.3)\n",
      "\u001B[38;5;2m✔ Download and installation successful\u001B[0m\n",
      "You can now load the model via spacy.load('en_vectors_web_lg')\n"
     ],
     "name": "stdout"
    }
   ]
  },
  {
   "cell_type": "markdown",
   "metadata": {
    "id": "-7SfXK-a00KR"
   },
   "source": [
    "**NB: After download, the runtime need to be restarted**"
   ]
  },
  {
   "cell_type": "code",
   "metadata": {
    "colab": {
     "base_uri": "https://localhost:8080/"
    },
    "id": "lJ-zU6ET14N4",
    "executionInfo": {
     "status": "ok",
     "timestamp": 1612128718322,
     "user_tz": -60,
     "elapsed": 9277,
     "user": {
      "displayName": "Gian Maria Cravero",
      "photoUrl": "https://lh3.googleusercontent.com/a-/AOh14GivBZ3_0YjjPOhXcrYotK8B-Cv4rkjD5mI0Lza2dQ=s64",
      "userId": "17389687874504793062"
     }
    },
    "outputId": "b25644c2-ec24-49d0-8051-839ea9725509"
   },
   "source": [
    "import spacy\n",
    "spacy.load('en_vectors_web_lg')"
   ],
   "execution_count": 6,
   "outputs": [
    {
     "output_type": "execute_result",
     "data": {
      "text/plain": [
       "<spacy.lang.en.English at 0x7fc3cb713d30>"
      ]
     },
     "metadata": {
      "tags": []
     },
     "execution_count": 6
    }
   ]
  },
  {
   "cell_type": "code",
   "metadata": {
    "colab": {
     "base_uri": "https://localhost:8080/"
    },
    "id": "X1OoGI0ESC8q",
    "executionInfo": {
     "status": "ok",
     "timestamp": 1612127430240,
     "user_tz": -60,
     "elapsed": 5958,
     "user": {
      "displayName": "Gian Maria Cravero",
      "photoUrl": "https://lh3.googleusercontent.com/a-/AOh14GivBZ3_0YjjPOhXcrYotK8B-Cv4rkjD5mI0Lza2dQ=s64",
      "userId": "17389687874504793062"
     }
    },
    "outputId": "f299a5d3-f4e0-4798-970d-97c46a630d0b"
   },
   "source": [
    "#!pip install transformers"
   ],
   "execution_count": null,
   "outputs": [
    {
     "output_type": "stream",
     "text": [
      "Collecting transformers\n",
      "\u001B[?25l  Downloading https://files.pythonhosted.org/packages/88/b1/41130a228dd656a1a31ba281598a968320283f48d42782845f6ba567f00b/transformers-4.2.2-py3-none-any.whl (1.8MB)\n",
      "\r\u001B[K     |▏                               | 10kB 21.9MB/s eta 0:00:01\r\u001B[K     |▍                               | 20kB 29.9MB/s eta 0:00:01\r\u001B[K     |▋                               | 30kB 20.5MB/s eta 0:00:01\r\u001B[K     |▊                               | 40kB 24.0MB/s eta 0:00:01\r\u001B[K     |█                               | 51kB 23.1MB/s eta 0:00:01\r\u001B[K     |█▏                              | 61kB 17.1MB/s eta 0:00:01\r\u001B[K     |█▎                              | 71kB 17.3MB/s eta 0:00:01\r\u001B[K     |█▌                              | 81kB 18.5MB/s eta 0:00:01\r\u001B[K     |█▊                              | 92kB 17.5MB/s eta 0:00:01\r\u001B[K     |█▉                              | 102kB 17.3MB/s eta 0:00:01\r\u001B[K     |██                              | 112kB 17.3MB/s eta 0:00:01\r\u001B[K     |██▎                             | 122kB 17.3MB/s eta 0:00:01\r\u001B[K     |██▍                             | 133kB 17.3MB/s eta 0:00:01\r\u001B[K     |██▋                             | 143kB 17.3MB/s eta 0:00:01\r\u001B[K     |██▉                             | 153kB 17.3MB/s eta 0:00:01\r\u001B[K     |███                             | 163kB 17.3MB/s eta 0:00:01\r\u001B[K     |███▏                            | 174kB 17.3MB/s eta 0:00:01\r\u001B[K     |███▍                            | 184kB 17.3MB/s eta 0:00:01\r\u001B[K     |███▌                            | 194kB 17.3MB/s eta 0:00:01\r\u001B[K     |███▊                            | 204kB 17.3MB/s eta 0:00:01\r\u001B[K     |████                            | 215kB 17.3MB/s eta 0:00:01\r\u001B[K     |████                            | 225kB 17.3MB/s eta 0:00:01\r\u001B[K     |████▎                           | 235kB 17.3MB/s eta 0:00:01\r\u001B[K     |████▌                           | 245kB 17.3MB/s eta 0:00:01\r\u001B[K     |████▋                           | 256kB 17.3MB/s eta 0:00:01\r\u001B[K     |████▉                           | 266kB 17.3MB/s eta 0:00:01\r\u001B[K     |█████                           | 276kB 17.3MB/s eta 0:00:01\r\u001B[K     |█████▏                          | 286kB 17.3MB/s eta 0:00:01\r\u001B[K     |█████▍                          | 296kB 17.3MB/s eta 0:00:01\r\u001B[K     |█████▋                          | 307kB 17.3MB/s eta 0:00:01\r\u001B[K     |█████▊                          | 317kB 17.3MB/s eta 0:00:01\r\u001B[K     |██████                          | 327kB 17.3MB/s eta 0:00:01\r\u001B[K     |██████▏                         | 337kB 17.3MB/s eta 0:00:01\r\u001B[K     |██████▎                         | 348kB 17.3MB/s eta 0:00:01\r\u001B[K     |██████▌                         | 358kB 17.3MB/s eta 0:00:01\r\u001B[K     |██████▊                         | 368kB 17.3MB/s eta 0:00:01\r\u001B[K     |██████▉                         | 378kB 17.3MB/s eta 0:00:01\r\u001B[K     |███████                         | 389kB 17.3MB/s eta 0:00:01\r\u001B[K     |███████▎                        | 399kB 17.3MB/s eta 0:00:01\r\u001B[K     |███████▍                        | 409kB 17.3MB/s eta 0:00:01\r\u001B[K     |███████▋                        | 419kB 17.3MB/s eta 0:00:01\r\u001B[K     |███████▉                        | 430kB 17.3MB/s eta 0:00:01\r\u001B[K     |████████                        | 440kB 17.3MB/s eta 0:00:01\r\u001B[K     |████████▏                       | 450kB 17.3MB/s eta 0:00:01\r\u001B[K     |████████▍                       | 460kB 17.3MB/s eta 0:00:01\r\u001B[K     |████████▌                       | 471kB 17.3MB/s eta 0:00:01\r\u001B[K     |████████▊                       | 481kB 17.3MB/s eta 0:00:01\r\u001B[K     |█████████                       | 491kB 17.3MB/s eta 0:00:01\r\u001B[K     |█████████                       | 501kB 17.3MB/s eta 0:00:01\r\u001B[K     |█████████▎                      | 512kB 17.3MB/s eta 0:00:01\r\u001B[K     |█████████▌                      | 522kB 17.3MB/s eta 0:00:01\r\u001B[K     |█████████▋                      | 532kB 17.3MB/s eta 0:00:01\r\u001B[K     |█████████▉                      | 542kB 17.3MB/s eta 0:00:01\r\u001B[K     |██████████                      | 552kB 17.3MB/s eta 0:00:01\r\u001B[K     |██████████▏                     | 563kB 17.3MB/s eta 0:00:01\r\u001B[K     |██████████▍                     | 573kB 17.3MB/s eta 0:00:01\r\u001B[K     |██████████▋                     | 583kB 17.3MB/s eta 0:00:01\r\u001B[K     |██████████▊                     | 593kB 17.3MB/s eta 0:00:01\r\u001B[K     |███████████                     | 604kB 17.3MB/s eta 0:00:01\r\u001B[K     |███████████▏                    | 614kB 17.3MB/s eta 0:00:01\r\u001B[K     |███████████▎                    | 624kB 17.3MB/s eta 0:00:01\r\u001B[K     |███████████▌                    | 634kB 17.3MB/s eta 0:00:01\r\u001B[K     |███████████▊                    | 645kB 17.3MB/s eta 0:00:01\r\u001B[K     |███████████▉                    | 655kB 17.3MB/s eta 0:00:01\r\u001B[K     |████████████                    | 665kB 17.3MB/s eta 0:00:01\r\u001B[K     |████████████▎                   | 675kB 17.3MB/s eta 0:00:01\r\u001B[K     |████████████▍                   | 686kB 17.3MB/s eta 0:00:01\r\u001B[K     |████████████▋                   | 696kB 17.3MB/s eta 0:00:01\r\u001B[K     |████████████▉                   | 706kB 17.3MB/s eta 0:00:01\r\u001B[K     |█████████████                   | 716kB 17.3MB/s eta 0:00:01\r\u001B[K     |█████████████▏                  | 727kB 17.3MB/s eta 0:00:01\r\u001B[K     |█████████████▍                  | 737kB 17.3MB/s eta 0:00:01\r\u001B[K     |█████████████▌                  | 747kB 17.3MB/s eta 0:00:01\r\u001B[K     |█████████████▊                  | 757kB 17.3MB/s eta 0:00:01\r\u001B[K     |██████████████                  | 768kB 17.3MB/s eta 0:00:01\r\u001B[K     |██████████████                  | 778kB 17.3MB/s eta 0:00:01\r\u001B[K     |██████████████▎                 | 788kB 17.3MB/s eta 0:00:01\r\u001B[K     |██████████████▌                 | 798kB 17.3MB/s eta 0:00:01\r\u001B[K     |██████████████▋                 | 808kB 17.3MB/s eta 0:00:01\r\u001B[K     |██████████████▉                 | 819kB 17.3MB/s eta 0:00:01\r\u001B[K     |███████████████                 | 829kB 17.3MB/s eta 0:00:01\r\u001B[K     |███████████████▏                | 839kB 17.3MB/s eta 0:00:01\r\u001B[K     |███████████████▍                | 849kB 17.3MB/s eta 0:00:01\r\u001B[K     |███████████████▋                | 860kB 17.3MB/s eta 0:00:01\r\u001B[K     |███████████████▊                | 870kB 17.3MB/s eta 0:00:01\r\u001B[K     |████████████████                | 880kB 17.3MB/s eta 0:00:01\r\u001B[K     |████████████████▏               | 890kB 17.3MB/s eta 0:00:01\r\u001B[K     |████████████████▎               | 901kB 17.3MB/s eta 0:00:01\r\u001B[K     |████████████████▌               | 911kB 17.3MB/s eta 0:00:01\r\u001B[K     |████████████████▊               | 921kB 17.3MB/s eta 0:00:01\r\u001B[K     |████████████████▉               | 931kB 17.3MB/s eta 0:00:01\r\u001B[K     |█████████████████               | 942kB 17.3MB/s eta 0:00:01\r\u001B[K     |█████████████████▎              | 952kB 17.3MB/s eta 0:00:01\r\u001B[K     |█████████████████▍              | 962kB 17.3MB/s eta 0:00:01\r\u001B[K     |█████████████████▋              | 972kB 17.3MB/s eta 0:00:01\r\u001B[K     |█████████████████▉              | 983kB 17.3MB/s eta 0:00:01\r\u001B[K     |██████████████████              | 993kB 17.3MB/s eta 0:00:01\r\u001B[K     |██████████████████▏             | 1.0MB 17.3MB/s eta 0:00:01\r\u001B[K     |██████████████████▍             | 1.0MB 17.3MB/s eta 0:00:01\r\u001B[K     |██████████████████▌             | 1.0MB 17.3MB/s eta 0:00:01\r\u001B[K     |██████████████████▊             | 1.0MB 17.3MB/s eta 0:00:01\r\u001B[K     |███████████████████             | 1.0MB 17.3MB/s eta 0:00:01\r\u001B[K     |███████████████████             | 1.1MB 17.3MB/s eta 0:00:01\r\u001B[K     |███████████████████▎            | 1.1MB 17.3MB/s eta 0:00:01\r\u001B[K     |███████████████████▌            | 1.1MB 17.3MB/s eta 0:00:01\r\u001B[K     |███████████████████▋            | 1.1MB 17.3MB/s eta 0:00:01\r\u001B[K     |███████████████████▉            | 1.1MB 17.3MB/s eta 0:00:01\r\u001B[K     |████████████████████            | 1.1MB 17.3MB/s eta 0:00:01\r\u001B[K     |████████████████████▏           | 1.1MB 17.3MB/s eta 0:00:01\r\u001B[K     |████████████████████▍           | 1.1MB 17.3MB/s eta 0:00:01\r\u001B[K     |████████████████████▋           | 1.1MB 17.3MB/s eta 0:00:01\r\u001B[K     |████████████████████▊           | 1.1MB 17.3MB/s eta 0:00:01\r\u001B[K     |█████████████████████           | 1.2MB 17.3MB/s eta 0:00:01\r\u001B[K     |█████████████████████▏          | 1.2MB 17.3MB/s eta 0:00:01\r\u001B[K     |█████████████████████▎          | 1.2MB 17.3MB/s eta 0:00:01\r\u001B[K     |█████████████████████▌          | 1.2MB 17.3MB/s eta 0:00:01\r\u001B[K     |█████████████████████▊          | 1.2MB 17.3MB/s eta 0:00:01\r\u001B[K     |█████████████████████▉          | 1.2MB 17.3MB/s eta 0:00:01\r\u001B[K     |██████████████████████          | 1.2MB 17.3MB/s eta 0:00:01\r\u001B[K     |██████████████████████▎         | 1.2MB 17.3MB/s eta 0:00:01\r\u001B[K     |██████████████████████▍         | 1.2MB 17.3MB/s eta 0:00:01\r\u001B[K     |██████████████████████▋         | 1.2MB 17.3MB/s eta 0:00:01\r\u001B[K     |██████████████████████▉         | 1.3MB 17.3MB/s eta 0:00:01\r\u001B[K     |███████████████████████         | 1.3MB 17.3MB/s eta 0:00:01\r\u001B[K     |███████████████████████▏        | 1.3MB 17.3MB/s eta 0:00:01\r\u001B[K     |███████████████████████▍        | 1.3MB 17.3MB/s eta 0:00:01\r\u001B[K     |███████████████████████▌        | 1.3MB 17.3MB/s eta 0:00:01\r\u001B[K     |███████████████████████▊        | 1.3MB 17.3MB/s eta 0:00:01\r\u001B[K     |████████████████████████        | 1.3MB 17.3MB/s eta 0:00:01\r\u001B[K     |████████████████████████        | 1.3MB 17.3MB/s eta 0:00:01\r\u001B[K     |████████████████████████▎       | 1.3MB 17.3MB/s eta 0:00:01\r\u001B[K     |████████████████████████▌       | 1.4MB 17.3MB/s eta 0:00:01\r\u001B[K     |████████████████████████▊       | 1.4MB 17.3MB/s eta 0:00:01\r\u001B[K     |████████████████████████▉       | 1.4MB 17.3MB/s eta 0:00:01\r\u001B[K     |█████████████████████████       | 1.4MB 17.3MB/s eta 0:00:01\r\u001B[K     |█████████████████████████▎      | 1.4MB 17.3MB/s eta 0:00:01\r\u001B[K     |█████████████████████████▍      | 1.4MB 17.3MB/s eta 0:00:01\r\u001B[K     |█████████████████████████▋      | 1.4MB 17.3MB/s eta 0:00:01\r\u001B[K     |█████████████████████████▉      | 1.4MB 17.3MB/s eta 0:00:01\r\u001B[K     |██████████████████████████      | 1.4MB 17.3MB/s eta 0:00:01\r\u001B[K     |██████████████████████████▏     | 1.4MB 17.3MB/s eta 0:00:01\r\u001B[K     |██████████████████████████▍     | 1.5MB 17.3MB/s eta 0:00:01\r\u001B[K     |██████████████████████████▌     | 1.5MB 17.3MB/s eta 0:00:01\r\u001B[K     |██████████████████████████▊     | 1.5MB 17.3MB/s eta 0:00:01\r\u001B[K     |███████████████████████████     | 1.5MB 17.3MB/s eta 0:00:01\r\u001B[K     |███████████████████████████     | 1.5MB 17.3MB/s eta 0:00:01\r\u001B[K     |███████████████████████████▎    | 1.5MB 17.3MB/s eta 0:00:01\r\u001B[K     |███████████████████████████▌    | 1.5MB 17.3MB/s eta 0:00:01\r\u001B[K     |███████████████████████████▋    | 1.5MB 17.3MB/s eta 0:00:01\r\u001B[K     |███████████████████████████▉    | 1.5MB 17.3MB/s eta 0:00:01\r\u001B[K     |████████████████████████████    | 1.5MB 17.3MB/s eta 0:00:01\r\u001B[K     |████████████████████████████▏   | 1.6MB 17.3MB/s eta 0:00:01\r\u001B[K     |████████████████████████████▍   | 1.6MB 17.3MB/s eta 0:00:01\r\u001B[K     |████████████████████████████▋   | 1.6MB 17.3MB/s eta 0:00:01\r\u001B[K     |████████████████████████████▊   | 1.6MB 17.3MB/s eta 0:00:01\r\u001B[K     |█████████████████████████████   | 1.6MB 17.3MB/s eta 0:00:01\r\u001B[K     |█████████████████████████████▏  | 1.6MB 17.3MB/s eta 0:00:01\r\u001B[K     |█████████████████████████████▎  | 1.6MB 17.3MB/s eta 0:00:01\r\u001B[K     |█████████████████████████████▌  | 1.6MB 17.3MB/s eta 0:00:01\r\u001B[K     |█████████████████████████████▊  | 1.6MB 17.3MB/s eta 0:00:01\r\u001B[K     |█████████████████████████████▉  | 1.6MB 17.3MB/s eta 0:00:01\r\u001B[K     |██████████████████████████████  | 1.7MB 17.3MB/s eta 0:00:01\r\u001B[K     |██████████████████████████████▎ | 1.7MB 17.3MB/s eta 0:00:01\r\u001B[K     |██████████████████████████████▍ | 1.7MB 17.3MB/s eta 0:00:01\r\u001B[K     |██████████████████████████████▋ | 1.7MB 17.3MB/s eta 0:00:01\r\u001B[K     |██████████████████████████████▉ | 1.7MB 17.3MB/s eta 0:00:01\r\u001B[K     |███████████████████████████████ | 1.7MB 17.3MB/s eta 0:00:01\r\u001B[K     |███████████████████████████████▏| 1.7MB 17.3MB/s eta 0:00:01\r\u001B[K     |███████████████████████████████▍| 1.7MB 17.3MB/s eta 0:00:01\r\u001B[K     |███████████████████████████████▌| 1.7MB 17.3MB/s eta 0:00:01\r\u001B[K     |███████████████████████████████▊| 1.8MB 17.3MB/s eta 0:00:01\r\u001B[K     |████████████████████████████████| 1.8MB 17.3MB/s eta 0:00:01\r\u001B[K     |████████████████████████████████| 1.8MB 17.3MB/s \n",
      "\u001B[?25hRequirement already satisfied: importlib-metadata; python_version < \"3.8\" in /usr/local/lib/python3.6/dist-packages (from transformers) (3.4.0)\n",
      "Requirement already satisfied: tqdm>=4.27 in /usr/local/lib/python3.6/dist-packages (from transformers) (4.41.1)\n",
      "Requirement already satisfied: dataclasses; python_version < \"3.7\" in /usr/local/lib/python3.6/dist-packages (from transformers) (0.8)\n",
      "Requirement already satisfied: regex!=2019.12.17 in /usr/local/lib/python3.6/dist-packages (from transformers) (2019.12.20)\n",
      "Collecting tokenizers==0.9.4\n",
      "\u001B[?25l  Downloading https://files.pythonhosted.org/packages/0f/1c/e789a8b12e28be5bc1ce2156cf87cb522b379be9cadc7ad8091a4cc107c4/tokenizers-0.9.4-cp36-cp36m-manylinux2010_x86_64.whl (2.9MB)\n",
      "\u001B[K     |████████████████████████████████| 2.9MB 50.8MB/s \n",
      "\u001B[?25hRequirement already satisfied: packaging in /usr/local/lib/python3.6/dist-packages (from transformers) (20.8)\n",
      "Requirement already satisfied: filelock in /usr/local/lib/python3.6/dist-packages (from transformers) (3.0.12)\n",
      "Collecting sacremoses\n",
      "\u001B[?25l  Downloading https://files.pythonhosted.org/packages/7d/34/09d19aff26edcc8eb2a01bed8e98f13a1537005d31e95233fd48216eed10/sacremoses-0.0.43.tar.gz (883kB)\n",
      "\u001B[K     |████████████████████████████████| 890kB 50.8MB/s \n",
      "\u001B[?25hRequirement already satisfied: requests in /usr/local/lib/python3.6/dist-packages (from transformers) (2.23.0)\n",
      "Requirement already satisfied: numpy in /usr/local/lib/python3.6/dist-packages (from transformers) (1.19.5)\n",
      "Requirement already satisfied: typing-extensions>=3.6.4; python_version < \"3.8\" in /usr/local/lib/python3.6/dist-packages (from importlib-metadata; python_version < \"3.8\"->transformers) (3.7.4.3)\n",
      "Requirement already satisfied: zipp>=0.5 in /usr/local/lib/python3.6/dist-packages (from importlib-metadata; python_version < \"3.8\"->transformers) (3.4.0)\n",
      "Requirement already satisfied: pyparsing>=2.0.2 in /usr/local/lib/python3.6/dist-packages (from packaging->transformers) (2.4.7)\n",
      "Requirement already satisfied: six in /usr/local/lib/python3.6/dist-packages (from sacremoses->transformers) (1.15.0)\n",
      "Requirement already satisfied: click in /usr/local/lib/python3.6/dist-packages (from sacremoses->transformers) (7.1.2)\n",
      "Requirement already satisfied: joblib in /usr/local/lib/python3.6/dist-packages (from sacremoses->transformers) (1.0.0)\n",
      "Requirement already satisfied: idna<3,>=2.5 in /usr/local/lib/python3.6/dist-packages (from requests->transformers) (2.10)\n",
      "Requirement already satisfied: urllib3!=1.25.0,!=1.25.1,<1.26,>=1.21.1 in /usr/local/lib/python3.6/dist-packages (from requests->transformers) (1.24.3)\n",
      "Requirement already satisfied: certifi>=2017.4.17 in /usr/local/lib/python3.6/dist-packages (from requests->transformers) (2020.12.5)\n",
      "Requirement already satisfied: chardet<4,>=3.0.2 in /usr/local/lib/python3.6/dist-packages (from requests->transformers) (3.0.4)\n",
      "Building wheels for collected packages: sacremoses\n",
      "  Building wheel for sacremoses (setup.py) ... \u001B[?25l\u001B[?25hdone\n",
      "  Created wheel for sacremoses: filename=sacremoses-0.0.43-cp36-none-any.whl size=893261 sha256=4553747dc9cbe75733754416aac54cdc4cba2b92bf0127b2d1d32c6104cd9ccc\n",
      "  Stored in directory: /root/.cache/pip/wheels/29/3c/fd/7ce5c3f0666dab31a50123635e6fb5e19ceb42ce38d4e58f45\n",
      "Successfully built sacremoses\n",
      "Installing collected packages: tokenizers, sacremoses, transformers\n",
      "Successfully installed sacremoses-0.0.43 tokenizers-0.9.4 transformers-4.2.2\n"
     ],
     "name": "stdout"
    }
   ]
  },
  {
   "cell_type": "markdown",
   "metadata": {
    "id": "CmUBP7x8IteS"
   },
   "source": [
    "## Preprocess data\n",
    "After completion the data could be staged and pushed to repository"
   ]
  },
  {
   "cell_type": "code",
   "metadata": {
    "colab": {
     "base_uri": "https://localhost:8080/"
    },
    "id": "Npus38UjxXT3",
    "executionInfo": {
     "status": "ok",
     "timestamp": 1612120435192,
     "user_tz": -60,
     "elapsed": 45555,
     "user": {
      "displayName": "Gian Maria Cravero",
      "photoUrl": "https://lh3.googleusercontent.com/a-/AOh14GivBZ3_0YjjPOhXcrYotK8B-Cv4rkjD5mI0Lza2dQ=s64",
      "userId": "17389687874504793062"
     }
    },
    "outputId": "85ed784e-7871-42ff-ba02-6e38f18db453"
   },
   "source": [
    "%cd /content/ActionPrediction4CA/\n",
    "%shell scripts/preprocess_simmc.sh\n"
   ],
   "execution_count": null,
   "outputs": [
    {
     "output_type": "stream",
     "text": [
      "/content/ActionPrediction4CA\n",
      "[step1] Extract assistant API\n",
      "Reading: data/simmc_fashion/fashion_train_dials.json\n",
      "Dialogue task Id missing: 3406\n",
      "Dialogue task Id missing: 3969\n",
      "Dialogue task Id missing: 4847\n",
      "Dialogue task Id missing: 321\n",
      "Dialogue task Id missing: 3455\n",
      "Dialogue task Id missing: 3414\n",
      "Saving: data/simmc_fashion/fashion_train_dials_api_calls.json\n",
      "Reading: data/simmc_fashion/fashion_dev_dials.json\n",
      "Dialogue task Id missing: 2117\n",
      "Saving: data/simmc_fashion/fashion_dev_dials_api_calls.json\n",
      "Reading: data/simmc_fashion/fashion_devtest_dials.json\n",
      "Dialogue task Id missing: 9308\n",
      "Saving: data/simmc_fashion/fashion_devtest_dials_api_calls.json\n",
      "\n",
      "[step2] Extract vocabulary from train\n",
      "Reading: data/simmc_fashion/fashion_train_dials.json\n",
      "Identified 1907 words..\n",
      "Saving dictionary: data/simmc_fashion/fashion_vocabulary.json\n",
      "\n",
      "[step3] Read and embed shopping assets\n",
      "tcmalloc: large alloc 1285169152 bytes == 0x1bb3c000 @  0x7ff9d02261e7 0x7ff9cdb1441e 0x7ff9cdb68e2c 0x7ff9cdb69a5f 0x7ff9cdc0b410 0x50a4a5 0x50cc96 0x507be4 0x509900 0x50a2fd 0x50cc96 0x507be4 0x50ab69 0x7ff96aad6008 0x7ff96aae37ed 0x5a9dac 0x50a433 0x50beb4 0x7ff96aad3b90 0x7ff96aad611f 0x7ff96aae2626 0x566f73 0x7ff96bfbb52c 0x50a4a5 0x50beb4 0x507be4 0x509900 0x50a2fd 0x50beb4 0x5095c8 0x50a2fd\n",
      "Saving embeddings: data/simmc_fashion/fashion_asset_embeds.npy\n",
      "\n",
      "[step4] Convert all the splits into npy files for dataloader\n",
      "Reading: data/simmc_fashion/fashion_train_dials.json\n",
      "Reading action supervision: data/simmc_fashion/fashion_train_dials_api_calls.json\n",
      "Reading retrieval candidates: data/simmc_fashion/fashion_train_dials_retrieval_candidates.json\n",
      "Dialog task id not found, using 1874 (random)!\n",
      "Dialog task id not found, using 1874 (random)!\n",
      "Dialog task id not found, using 1874 (random)!\n",
      "Dialog task id not found, using 1874 (random)!\n",
      "Dialog task id not found, using 1874 (random)!\n",
      "Dialog task id not found, using 1874 (random)!\n",
      "Action distribution:\n",
      "\tSpecifyInfo    [39%]: 8224\n",
      "\tNone           [26%]: 5592\n",
      "\tSearchDatabase [17%]: 3617\n",
      "\tAddToCart      [14%]: 3068\n",
      "\tSearchMemory   [3%]: 695\n",
      "Vocabulary: data/simmc_fashion/fashion_vocabulary.json\n",
      "100% 19370/19370 [00:03<00:00, 5601.84it/s]\n",
      "19370it [00:00, 300289.66it/s]\n",
      "100% 19974/19974 [00:02<00:00, 6895.85it/s]\n",
      "19974it [00:00, 314703.97it/s]\n",
      "Saving multimodal inputs: data/simmc_fashion/fashion_train_dials_mm_inputs.npy\n",
      "Reading: data/simmc_fashion/fashion_dev_dials.json\n",
      "Reading action supervision: data/simmc_fashion/fashion_dev_dials_api_calls.json\n",
      "Reading retrieval candidates: data/simmc_fashion/fashion_dev_dials_retrieval_candidates.json\n",
      "Dialog task id not found, using 1874 (random)!\n",
      "Action distribution:\n",
      "\tSpecifyInfo    [39%]: 1375\n",
      "\tNone           [26%]: 908\n",
      "\tSearchDatabase [18%]: 624\n",
      "\tAddToCart      [14%]: 492\n",
      "\tSearchMemory   [3%]: 114\n",
      "Vocabulary: data/simmc_fashion/fashion_vocabulary.json\n",
      "100% 3340/3340 [00:00<00:00, 6725.80it/s]\n",
      "3340it [00:00, 295604.13it/s]\n",
      "100% 3524/3524 [00:00<00:00, 6878.25it/s]\n",
      "3524it [00:00, 321369.06it/s]\n",
      "Saving multimodal inputs: data/simmc_fashion/fashion_dev_dials_mm_inputs.npy\n",
      "Reading: data/simmc_fashion/fashion_devtest_dials.json\n",
      "Reading action supervision: data/simmc_fashion/fashion_devtest_dials_api_calls.json\n",
      "Reading retrieval candidates: data/simmc_fashion/fashion_devtest_dials_retrieval_candidates.json\n",
      "Dialog task id not found, using 1874 (random)!\n",
      "Action distribution:\n",
      "\tSpecifyInfo    [39%]: 2088\n",
      "\tNone           [26%]: 1386\n",
      "\tSearchDatabase [17%]: 944\n",
      "\tAddToCart      [15%]: 793\n",
      "\tSearchMemory   [3%]: 186\n",
      "Vocabulary: data/simmc_fashion/fashion_vocabulary.json\n",
      "100% 5142/5142 [00:00<00:00, 6238.44it/s]\n",
      "5142it [00:00, 244394.84it/s]\n",
      "100% 5376/5376 [00:00<00:00, 7062.21it/s]\n",
      "5376it [00:00, 322219.21it/s]\n",
      "Saving multimodal inputs: data/simmc_fashion/fashion_devtest_dials_mm_inputs.npy\n",
      "\n",
      "[step5] Extract vocabulary for attributes from train npy file\n",
      "{'attributes': ['availableSizes', 'brand', 'color', 'customerRating', 'info', 'other', 'price']}\n",
      "Saving attribute dictionary: data/simmc_fashion/fashion_attribute_vocabulary.json\n"
     ],
     "name": "stdout"
    },
    {
     "output_type": "execute_result",
     "data": {
      "text/plain": [
       ""
      ]
     },
     "metadata": {
      "tags": []
     },
     "execution_count": 2
    }
   ]
  },
  {
   "cell_type": "markdown",
   "metadata": {
    "id": "R8mVKETY41pJ"
   },
   "source": [
    "\n",
    "# Execute the script\n",
    "The script must be executed from the root directory of the project.\n",
    "\n",
    "**NB: for running this section you need to change the runtime to GPU (menu Runtime - change runtime type)**"
   ]
  },
  {
   "cell_type": "code",
   "metadata": {
    "colab": {
     "base_uri": "https://localhost:8080/",
     "height": 1000
    },
    "id": "0VtcSlX5IszU",
    "executionInfo": {
     "status": "error",
     "timestamp": 1612128072252,
     "user_tz": -60,
     "elapsed": 126351,
     "user": {
      "displayName": "Gian Maria Cravero",
      "photoUrl": "https://lh3.googleusercontent.com/a-/AOh14GivBZ3_0YjjPOhXcrYotK8B-Cv4rkjD5mI0Lza2dQ=s64",
      "userId": "17389687874504793062"
     }
    },
    "outputId": "e8ae2f0b-c74b-40bd-e97e-1214e71700c6"
   },
   "source": [
    "%cd /content/ActionPrediction4CA/\n",
    "# %xmode Plain\n",
    "# %pdb on\n",
    "%shell scripts/train_simmc_model.sh\n"
   ],
   "execution_count": null,
   "outputs": [
    {
     "output_type": "stream",
     "text": [
      "/content/ActionPrediction4CA\n",
      "[Train]\n",
      "Running on GPU 0...\n",
      "Arguments:\n",
      "\tasset_embed_path       : data/simmc_fashion/fashion_asset_embeds.npy\n",
      "\tattr_vocab_path        : data/simmc_fashion/fashion_attribute_vocabulary.json\n",
      "\tbatch_size             : 20\n",
      "\tbleu_evaluation        : False\n",
      "\tdomain                 : fashion\n",
      "\tdropout                : 0.2\n",
      "\tencoder                : history_agnostic\n",
      "\teval_data_path         : data/simmc_fashion/fashion_dev_dials_mm_inputs.npy\n",
      "\teval_every_epoch       : 5\n",
      "\tgpu_id                 : 0\n",
      "\thidden_size            : 512\n",
      "\thidden_size_transformer: 2048\n",
      "\tlearning_rate          : 0.0001\n",
      "\tmax_decoder_len        : 26\n",
      "\tmax_encoder_len        : 24\n",
      "\tmax_history_len        : 100\n",
      "\tmax_rounds             : 30\n",
      "\tmetainfo_path          : models/fashion_model_metainfo.json\n",
      "\tnum_epochs             : 100\n",
      "\tnum_heads_transformer  : -1\n",
      "\tnum_layers             : 2\n",
      "\tnum_layers_transformer : -1\n",
      "\tretrieval_evaluation   : True\n",
      "\tsave_every_epoch       : 5\n",
      "\tsave_prudently         : False\n",
      "\tshare_embeddings       : True\n",
      "\tsnapshot_path          : checkpoints/\n",
      "\ttext_encoder           : lstm\n",
      "\ttrain_data_path        : data/simmc_fashion/fashion_train_dials_mm_inputs.npy\n",
      "\tuse_action_attention   : True\n",
      "\tuse_action_output      : True\n",
      "\tuse_bahdanau_attention : True\n",
      "\tuse_gpu                : True\n",
      "\tuse_multimodal_state   : True\n",
      "\tword_embed_size        : 256\n",
      "\n",
      "******************************\n",
      "Arguments:\n",
      "\tasset_embed_path        : data/simmc_fashion/fashion_asset_embeds.npy\n",
      "\tattr_vocab_path         : data/simmc_fashion/fashion_attribute_vocabulary.json\n",
      "\tbatch_size              : 20\n",
      "\tbleu_evaluation         : False\n",
      "\tdata_read_path          : data/simmc_fashion/fashion_train_dials_mm_inputs.npy\n",
      "\tdomain                  : fashion\n",
      "\tdropout                 : 0.2\n",
      "\tencoder                 : history_agnostic\n",
      "\teval_data_path          : data/simmc_fashion/fashion_dev_dials_mm_inputs.npy\n",
      "\teval_every_epoch        : 5\n",
      "\tget_retrieval_candidates: False\n",
      "\tgpu_id                  : 0\n",
      "\thidden_size             : 512\n",
      "\thidden_size_transformer : 2048\n",
      "\tlearning_rate           : 0.0001\n",
      "\tmax_decoder_len         : 26\n",
      "\tmax_encoder_len         : 24\n",
      "\tmax_history_len         : 100\n",
      "\tmax_rounds              : 30\n",
      "\tmetainfo_path           : models/fashion_model_metainfo.json\n",
      "\tnum_epochs              : 100\n",
      "\tnum_heads_transformer   : -1\n",
      "\tnum_layers              : 2\n",
      "\tnum_layers_transformer  : -1\n",
      "\tretrieval_evaluation    : True\n",
      "\tsave_every_epoch        : 5\n",
      "\tsave_prudently          : False\n",
      "\tshare_embeddings        : True\n",
      "\tshuffle                 : True\n",
      "\tsingle_pass             : False\n",
      "\tsnapshot_path           : checkpoints/\n",
      "\ttext_encoder            : lstm\n",
      "\ttrain_data_path         : data/simmc_fashion/fashion_train_dials_mm_inputs.npy\n",
      "\tuse_action_attention    : True\n",
      "\tuse_action_output       : True\n",
      "\tuse_bahdanau_attention  : True\n",
      "\tuse_gpu                 : True\n",
      "\tuse_multimodal_state    : True\n",
      "\tword_embed_size         : 256\n",
      "\n",
      "******************************\n",
      "Initializing empty vocabulary object..\n",
      "Vocabulary size updated: 1907\n",
      "Loading attribute vocabularies..\n",
      "******************************\n",
      "Arguments:\n",
      "\tasset_embed_path        : data/simmc_fashion/fashion_asset_embeds.npy\n",
      "\tasset_feature_size      : 1200\n",
      "\tattr_vocab_path         : data/simmc_fashion/fashion_attribute_vocabulary.json\n",
      "\tbatch_size              : 20\n",
      "\tbleu_evaluation         : False\n",
      "\tdata_read_path          : data/simmc_fashion/fashion_dev_dials_mm_inputs.npy\n",
      "\tdomain                  : fashion\n",
      "\tdropout                 : 0.2\n",
      "\tencoder                 : history_agnostic\n",
      "\tend_token               : 1741\n",
      "\teval_data_path          : data/simmc_fashion/fashion_dev_dials_mm_inputs.npy\n",
      "\teval_every_epoch        : 5\n",
      "\tget_retrieval_candidates: True\n",
      "\tgpu_id                  : 0\n",
      "\thidden_size             : 512\n",
      "\thidden_size_transformer : 2048\n",
      "\tlearning_rate           : 0.0001\n",
      "\tmax_decoder_len         : 26\n",
      "\tmax_encoder_len         : 24\n",
      "\tmax_history_len         : 100\n",
      "\tmax_rounds              : 30\n",
      "\tmetainfo_path           : models/fashion_model_metainfo.json\n",
      "\tnum_actions             : 5\n",
      "\tnum_epochs              : 100\n",
      "\tnum_heads_transformer   : -1\n",
      "\tnum_layers              : 2\n",
      "\tnum_layers_transformer  : -1\n",
      "\tpad_token               : 1738\n",
      "\tretrieval_evaluation    : True\n",
      "\tsave_every_epoch        : 5\n",
      "\tsave_prudently          : False\n",
      "\tshare_embeddings        : True\n",
      "\tshuffle                 : False\n",
      "\tsingle_pass             : True\n",
      "\tsnapshot_path           : checkpoints/\n",
      "\tstart_token             : 1740\n",
      "\ttext_encoder            : lstm\n",
      "\ttrain_data_path         : data/simmc_fashion/fashion_train_dials_mm_inputs.npy\n",
      "\tuse_action_attention    : True\n",
      "\tuse_action_output       : True\n",
      "\tuse_bahdanau_attention  : True\n",
      "\tuse_gpu                 : True\n",
      "\tuse_multimodal_state    : True\n",
      "\tvocab_size              : 1907\n",
      "\tword_embed_size         : 256\n",
      "\n",
      "******************************\n",
      "Initializing empty vocabulary object..\n",
      "Vocabulary size updated: 1907\n",
      "Loading attribute vocabularies..\n",
      "Number of iterations per epoch: 196.45\n",
      "[Sun 31Jan21 21:19:13][Ep: 0.00][It: 0][A: 2.66][Aa: 1.05][L: 8.65][T: 12.36]\n",
      "******************************\n",
      "<loaders.loader_simmc.DataloaderSIMMC object at 0x7fea8ee15860>\n",
      "******************************\n",
      "33it [01:56,  3.52s/it]\n",
      "******************************\n",
      "<loaders.loader_simmc.DataloaderSIMMC object at 0x7fea8ee15860>\n",
      "Arguments:\n",
      "\taction    : data/simmc_fashion/fashion_dev_dials_api_calls.json\n",
      "\tdata      : ['data/simmc_fashion/fashion_dev_dials.json']\n",
      "\tretrieval : data/simmc_fashion/fashion_dev_dials_retrieval_candidates.json\n",
      "\tvocabulary: data/simmc_fashion/fashion_vocabulary.json\n",
      "\n",
      "******************************\n",
      "#Instances evaluated retrieval: 3513\n",
      "{'r1': 0.0148021633931113, 'r5': 0.08226586962709935, 'r10': 0.1465983489894677, 'mean': 46.62823797324224, 'mrr': 0.06675095104198857}\n",
      "#Instances evaluated API: 3513\n",
      "[[   0.    0.    0.    0.    0.]\n",
      " [ 492.  908.  624.  114. 1375.]\n",
      " [   0.    0.    0.    0.    0.]\n",
      " [   0.    0.    0.    0.    0.]\n",
      " [   0.    0.    0.    0.    0.]]\n",
      "\n",
      "Evaluation\n",
      "\tLoss: 8.83\n",
      "\tPerplexity: 6811.00\n",
      "\tBLEU: -1.000\n",
      "\tAction: 25.85\n",
      "\tAction Perplexity: 6.42\n",
      "\tAction Attribute Accuracy: 0.00\n",
      "\n",
      "Best Val Performance: Ep 0\n",
      "\tloss: 8.83\n",
      "\tperplexity: 6811.00\n",
      "\tbleu: -1.00\n",
      "\taction_accuracy: 0.26\n",
      "\taction_perplexity: 6.42\n",
      "\taction_attribute: 0.00\n",
      "\tr1: 0.01\n",
      "\tr5: 0.08\n",
      "\tr10: 0.15\n",
      "\tmean: 46.63\n",
      "\tmrr: 0.07\n",
      "Saving the model: checkpoints/epoch_0.tar\n",
      "Traceback (most recent call last):\n",
      "  File \"train_simmc_agent.py\", line 72, in <module>\n",
      "    batch_loss[\"total\"].backward()\n",
      "  File \"/usr/local/lib/python3.6/dist-packages/torch/tensor.py\", line 221, in backward\n",
      "    torch.autograd.backward(self, gradient, retain_graph, create_graph)\n",
      "  File \"/usr/local/lib/python3.6/dist-packages/torch/autograd/__init__.py\", line 132, in backward\n",
      "    allow_unreachable=True)  # allow_unreachable flag\n",
      "RuntimeError: Trying to backward through the graph a second time, but the saved intermediate results have already been freed. Specify retain_graph=True when calling backward the first time.\n",
      "[Evaluate]\n",
      "Running on GPU 0...\n",
      "Loading checkpoint: /hae/epoch_20.tar\n",
      "Traceback (most recent call last):\n",
      "  File \"eval_simmc_agent.py\", line 199, in <module>\n",
      "    main(args)\n",
      "  File \"eval_simmc_agent.py\", line 24, in main\n",
      "    checkpoint = torch.load(args[\"checkpoint\"], map_location=torch.device(\"cpu\"))\n",
      "  File \"/usr/local/lib/python3.6/dist-packages/torch/serialization.py\", line 581, in load\n",
      "    with _open_file_like(f, 'rb') as opened_file:\n",
      "  File \"/usr/local/lib/python3.6/dist-packages/torch/serialization.py\", line 230, in _open_file_like\n",
      "    return _open_file(name_or_buffer, mode)\n",
      "  File \"/usr/local/lib/python3.6/dist-packages/torch/serialization.py\", line 211, in __init__\n",
      "    super(_open_file, self).__init__(open(name, mode))\n",
      "FileNotFoundError: [Errno 2] No such file or directory: '/hae/epoch_20.tar'\n"
     ],
     "name": "stdout"
    },
    {
     "output_type": "error",
     "ename": "CalledProcessError",
     "evalue": "ignored",
     "traceback": [
      "\u001B[0;31m---------------------------------------------------------------------------\u001B[0m",
      "\u001B[0;31mCalledProcessError\u001B[0m                        Traceback (most recent call last)",
      "\u001B[0;32m<ipython-input-10-5f11a67c8c2d>\u001B[0m in \u001B[0;36m<module>\u001B[0;34m()\u001B[0m\n\u001B[1;32m      2\u001B[0m \u001B[0;31m# %xmode Plain\u001B[0m\u001B[0;34m\u001B[0m\u001B[0;34m\u001B[0m\u001B[0;34m\u001B[0m\u001B[0m\n\u001B[1;32m      3\u001B[0m \u001B[0;31m# %pdb on\u001B[0m\u001B[0;34m\u001B[0m\u001B[0;34m\u001B[0m\u001B[0;34m\u001B[0m\u001B[0m\n\u001B[0;32m----> 4\u001B[0;31m \u001B[0mget_ipython\u001B[0m\u001B[0;34m(\u001B[0m\u001B[0;34m)\u001B[0m\u001B[0;34m.\u001B[0m\u001B[0mmagic\u001B[0m\u001B[0;34m(\u001B[0m\u001B[0;34m'shell scripts/train_simmc_model.sh'\u001B[0m\u001B[0;34m)\u001B[0m\u001B[0;34m\u001B[0m\u001B[0;34m\u001B[0m\u001B[0m\n\u001B[0m",
      "\u001B[0;32m/usr/local/lib/python3.6/dist-packages/IPython/core/interactiveshell.py\u001B[0m in \u001B[0;36mmagic\u001B[0;34m(self, arg_s)\u001B[0m\n\u001B[1;32m   2158\u001B[0m         \u001B[0mmagic_name\u001B[0m\u001B[0;34m,\u001B[0m \u001B[0m_\u001B[0m\u001B[0;34m,\u001B[0m \u001B[0mmagic_arg_s\u001B[0m \u001B[0;34m=\u001B[0m \u001B[0marg_s\u001B[0m\u001B[0;34m.\u001B[0m\u001B[0mpartition\u001B[0m\u001B[0;34m(\u001B[0m\u001B[0;34m' '\u001B[0m\u001B[0;34m)\u001B[0m\u001B[0;34m\u001B[0m\u001B[0;34m\u001B[0m\u001B[0m\n\u001B[1;32m   2159\u001B[0m         \u001B[0mmagic_name\u001B[0m \u001B[0;34m=\u001B[0m \u001B[0mmagic_name\u001B[0m\u001B[0;34m.\u001B[0m\u001B[0mlstrip\u001B[0m\u001B[0;34m(\u001B[0m\u001B[0mprefilter\u001B[0m\u001B[0;34m.\u001B[0m\u001B[0mESC_MAGIC\u001B[0m\u001B[0;34m)\u001B[0m\u001B[0;34m\u001B[0m\u001B[0;34m\u001B[0m\u001B[0m\n\u001B[0;32m-> 2160\u001B[0;31m         \u001B[0;32mreturn\u001B[0m \u001B[0mself\u001B[0m\u001B[0;34m.\u001B[0m\u001B[0mrun_line_magic\u001B[0m\u001B[0;34m(\u001B[0m\u001B[0mmagic_name\u001B[0m\u001B[0;34m,\u001B[0m \u001B[0mmagic_arg_s\u001B[0m\u001B[0;34m)\u001B[0m\u001B[0;34m\u001B[0m\u001B[0;34m\u001B[0m\u001B[0m\n\u001B[0m\u001B[1;32m   2161\u001B[0m \u001B[0;34m\u001B[0m\u001B[0m\n\u001B[1;32m   2162\u001B[0m     \u001B[0;31m#-------------------------------------------------------------------------\u001B[0m\u001B[0;34m\u001B[0m\u001B[0;34m\u001B[0m\u001B[0;34m\u001B[0m\u001B[0m\n",
      "\u001B[0;32m/usr/local/lib/python3.6/dist-packages/IPython/core/interactiveshell.py\u001B[0m in \u001B[0;36mrun_line_magic\u001B[0;34m(self, magic_name, line)\u001B[0m\n\u001B[1;32m   2079\u001B[0m                 \u001B[0mkwargs\u001B[0m\u001B[0;34m[\u001B[0m\u001B[0;34m'local_ns'\u001B[0m\u001B[0;34m]\u001B[0m \u001B[0;34m=\u001B[0m \u001B[0msys\u001B[0m\u001B[0;34m.\u001B[0m\u001B[0m_getframe\u001B[0m\u001B[0;34m(\u001B[0m\u001B[0mstack_depth\u001B[0m\u001B[0;34m)\u001B[0m\u001B[0;34m.\u001B[0m\u001B[0mf_locals\u001B[0m\u001B[0;34m\u001B[0m\u001B[0;34m\u001B[0m\u001B[0m\n\u001B[1;32m   2080\u001B[0m             \u001B[0;32mwith\u001B[0m \u001B[0mself\u001B[0m\u001B[0;34m.\u001B[0m\u001B[0mbuiltin_trap\u001B[0m\u001B[0;34m:\u001B[0m\u001B[0;34m\u001B[0m\u001B[0;34m\u001B[0m\u001B[0m\n\u001B[0;32m-> 2081\u001B[0;31m                 \u001B[0mresult\u001B[0m \u001B[0;34m=\u001B[0m \u001B[0mfn\u001B[0m\u001B[0;34m(\u001B[0m\u001B[0;34m*\u001B[0m\u001B[0margs\u001B[0m\u001B[0;34m,\u001B[0m\u001B[0;34m**\u001B[0m\u001B[0mkwargs\u001B[0m\u001B[0;34m)\u001B[0m\u001B[0;34m\u001B[0m\u001B[0;34m\u001B[0m\u001B[0m\n\u001B[0m\u001B[1;32m   2082\u001B[0m             \u001B[0;32mreturn\u001B[0m \u001B[0mresult\u001B[0m\u001B[0;34m\u001B[0m\u001B[0;34m\u001B[0m\u001B[0m\n\u001B[1;32m   2083\u001B[0m \u001B[0;34m\u001B[0m\u001B[0m\n",
      "\u001B[0;32m/usr/local/lib/python3.6/dist-packages/google/colab/_system_commands.py\u001B[0m in \u001B[0;36m_shell_line_magic\u001B[0;34m(line)\u001B[0m\n\u001B[1;32m     68\u001B[0m   \"\"\"\n\u001B[1;32m     69\u001B[0m   \u001B[0mresult\u001B[0m \u001B[0;34m=\u001B[0m \u001B[0m_run_command\u001B[0m\u001B[0;34m(\u001B[0m\u001B[0mline\u001B[0m\u001B[0;34m,\u001B[0m \u001B[0mclear_streamed_output\u001B[0m\u001B[0;34m=\u001B[0m\u001B[0;32mFalse\u001B[0m\u001B[0;34m)\u001B[0m\u001B[0;34m\u001B[0m\u001B[0;34m\u001B[0m\u001B[0m\n\u001B[0;32m---> 70\u001B[0;31m   \u001B[0mresult\u001B[0m\u001B[0;34m.\u001B[0m\u001B[0mcheck_returncode\u001B[0m\u001B[0;34m(\u001B[0m\u001B[0;34m)\u001B[0m\u001B[0;34m\u001B[0m\u001B[0;34m\u001B[0m\u001B[0m\n\u001B[0m\u001B[1;32m     71\u001B[0m   \u001B[0;32mreturn\u001B[0m \u001B[0mresult\u001B[0m\u001B[0;34m\u001B[0m\u001B[0;34m\u001B[0m\u001B[0m\n\u001B[1;32m     72\u001B[0m \u001B[0;34m\u001B[0m\u001B[0m\n",
      "\u001B[0;32m/usr/local/lib/python3.6/dist-packages/google/colab/_system_commands.py\u001B[0m in \u001B[0;36mcheck_returncode\u001B[0;34m(self)\u001B[0m\n\u001B[1;32m    136\u001B[0m     \u001B[0;32mif\u001B[0m \u001B[0mself\u001B[0m\u001B[0;34m.\u001B[0m\u001B[0mreturncode\u001B[0m\u001B[0;34m:\u001B[0m\u001B[0;34m\u001B[0m\u001B[0;34m\u001B[0m\u001B[0m\n\u001B[1;32m    137\u001B[0m       raise subprocess.CalledProcessError(\n\u001B[0;32m--> 138\u001B[0;31m           returncode=self.returncode, cmd=self.args, output=self.output)\n\u001B[0m\u001B[1;32m    139\u001B[0m \u001B[0;34m\u001B[0m\u001B[0m\n\u001B[1;32m    140\u001B[0m   \u001B[0;32mdef\u001B[0m \u001B[0m_repr_pretty_\u001B[0m\u001B[0;34m(\u001B[0m\u001B[0mself\u001B[0m\u001B[0;34m,\u001B[0m \u001B[0mp\u001B[0m\u001B[0;34m,\u001B[0m \u001B[0mcycle\u001B[0m\u001B[0;34m)\u001B[0m\u001B[0;34m:\u001B[0m  \u001B[0;31m# pylint:disable=unused-argument\u001B[0m\u001B[0;34m\u001B[0m\u001B[0;34m\u001B[0m\u001B[0m\n",
      "\u001B[0;31mCalledProcessError\u001B[0m: Command 'scripts/train_simmc_model.sh' returned non-zero exit status 1."
     ]
    }
   ]
  }
 ]
}