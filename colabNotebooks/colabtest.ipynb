{
  "nbformat": 4,
  "nbformat_minor": 0,
  "metadata": {
    "colab": {
      "name": "Copia di colabtest.ipynb",
      "provenance": [],
      "collapsed_sections": [],
      "toc_visible": true
    },
    "kernelspec": {
      "name": "python3",
      "display_name": "Python 3"
    },
    "accelerator": "GPU"
  },
  "cells": [
    {
      "cell_type": "markdown",
      "metadata": {
        "id": "TW_XLbQ3oiSx"
      },
      "source": [
        "# Environment test\n",
        "The scope of this script is to compute the train of the simmc model for the fashion domain on the `COLAB` platform.\n",
        "\n",
        "For the environment test we directly clone the repository to simplify the data access.\n",
        "To improve performance the repository will be stored on google drive and accessed via `sys.path` functions (see [google colab-drive-github stack tutorial](https://towardsdatascience.com/google-drive-google-colab-github-dont-just-read-do-it-5554d5824228)).\n",
        "\n",
        "## Downgrade pytorch\n"
      ]
    },
    {
      "cell_type": "code",
      "metadata": {
        "id": "z-jVAETZdzEg"
      },
      "source": [
        "!pip install torch==1.4.0"
      ],
      "execution_count": null,
      "outputs": []
    },
    {
      "cell_type": "markdown",
      "metadata": {
        "id": "2f5og_EQeANP"
      },
      "source": [
        "## Get library from `colab branch`\n",
        "Clone the forked repository with the setting for the `colab` test"
      ]
    },
    {
      "cell_type": "code",
      "metadata": {
        "id": "7Dwl5Py9WEBe"
      },
      "source": [
        "!git clone --branch colab https://github.com/jmcrav/ActionPrediction4CA.git"
      ],
      "execution_count": null,
      "outputs": []
    },
    {
      "cell_type": "markdown",
      "metadata": {
        "id": "klAzL8VCIZcX"
      },
      "source": [
        "## Check environment\n",
        "Script list"
      ]
    },
    {
      "cell_type": "code",
      "metadata": {
        "id": "mbq_QWm0IYtx"
      },
      "source": [
        "%ls -la /content/ActionPrediction4CA/scripts/"
      ],
      "execution_count": null,
      "outputs": []
    },
    {
      "cell_type": "markdown",
      "metadata": {
        "id": "0s3UoGgh2zmG"
      },
      "source": [
        "Set the privileges"
      ]
    },
    {
      "cell_type": "code",
      "metadata": {
        "id": "Tpwh9H8qIk0N"
      },
      "source": [
        "!chmod 755 /content/ActionPrediction4CA/scripts/*.*"
      ],
      "execution_count": null,
      "outputs": []
    },
    {
      "cell_type": "markdown",
      "metadata": {
        "id": "n_ntxqHf4Y0V"
      },
      "source": [
        "# Import missing library"
      ]
    },
    {
      "cell_type": "code",
      "metadata": {
        "id": "YDY8hnA1xV-x"
      },
      "source": [
        "import nltk\n",
        "nltk.download('punkt')"
      ],
      "execution_count": null,
      "outputs": []
    },
    {
      "cell_type": "code",
      "metadata": {
        "id": "-i52bMiiyg58"
      },
      "source": [
        "!python -m spacy download en_vectors_web_lg"
      ],
      "execution_count": null,
      "outputs": []
    },
    {
      "cell_type": "markdown",
      "metadata": {
        "id": "-7SfXK-a00KR"
      },
      "source": [
        "**NB: After download, the runtime need to be restarted**"
      ]
    },
    {
      "cell_type": "code",
      "metadata": {
        "id": "lJ-zU6ET14N4"
      },
      "source": [
        "import spacy\n",
        "spacy.load('en_vectors_web_lg')"
      ],
      "execution_count": null,
      "outputs": []
    },
    {
      "cell_type": "code",
      "metadata": {
        "id": "X1OoGI0ESC8q"
      },
      "source": [
        "#!pip install transformers"
      ],
      "execution_count": null,
      "outputs": []
    },
    {
      "cell_type": "markdown",
      "metadata": {
        "id": "CmUBP7x8IteS"
      },
      "source": [
        "## Preprocess data\n",
        "After completion the data could be staged and pushed to repository"
      ]
    },
    {
      "cell_type": "code",
      "metadata": {
        "id": "Npus38UjxXT3"
      },
      "source": [
        "%cd /content/ActionPrediction4CA/\n",
        "%shell scripts/preprocess_simmc.sh\n"
      ],
      "execution_count": null,
      "outputs": []
    },
    {
      "cell_type": "markdown",
      "metadata": {
        "id": "R8mVKETY41pJ"
      },
      "source": [
        "\n",
        "# Execute the script\n",
        "The script must be executed from the root directory of the project.\n",
        "\n",
        "**NB: for running this section you need to change the runtime to GPU (menu Runtime - change runtime type)**"
      ]
    },
    {
      "cell_type": "code",
      "metadata": {
        "id": "0VtcSlX5IszU"
      },
      "source": [
        "%cd /content/ActionPrediction4CA/\n",
        "# %xmode Plain\n",
        "# %pdb on\n",
        "%shell scripts/train_simmc_model.sh\n"
      ],
      "execution_count": null,
      "outputs": []
    }
  ]
}